!git clone https://github.com/jmsaavedrar/machine_learning/
import numpy as np
