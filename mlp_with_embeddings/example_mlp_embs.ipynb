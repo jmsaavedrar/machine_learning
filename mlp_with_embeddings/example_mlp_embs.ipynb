{
 "cells": [
  {
   "cell_type": "code",
   "execution_count": null,
   "metadata": {},
   "outputs": [],
   "source": [
    "import sys\n",
    "import torch\n",
    "import torch.nn as nn\n",
    "import torch.utils.data as data\n",
    "import dataloader\n",
    "import skmodel\n",
    "from torch.utils.tensorboard import SummaryWriter\n",
    "\n",
    "#1: dataset loader (defining dataset)\n",
    "\n",
    "datapath = '/hd_data/sketch_eitz'\n",
    "tr_dataset = dataloader.SKDataloader(datapath, datatype = 'train')\n",
    "tr_dataset = data.DataLoader(tr_dataset, batch_size = 64, shuffle = True)\n",
    "\n",
    "val_dataset = dataloader.SKDataloader(datapath, datatype = 'val')\n",
    "val_dataset = data.DataLoader(val_dataset, batch_size = 64, shuffle = False)"
   ]
  }
 ],
 "metadata": {
  "language_info": {
   "name": "python"
  }
 },
 "nbformat": 4,
 "nbformat_minor": 2
}
