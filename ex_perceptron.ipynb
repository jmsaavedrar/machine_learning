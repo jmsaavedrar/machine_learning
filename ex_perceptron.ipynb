{
  "cells": [
    {
      "cell_type": "code",
      "source": [],
      "metadata": {
        "id": "3QYxRX587dq-"
      },
      "execution_count": null,
      "outputs": []
    },
    {
      "cell_type": "code",
      "source": [
        "!git clone https://github.com/jmsaavedrar/machine_learning\n",
        "import sys\n",
        "sys.path.append('/content/machine_learning')\n",
        "import numpy as np\n",
        "import nn.perceptron as perceptron\n",
        "import sklearn.datasets as datasets\n",
        "import metrics.metrics as metrics\n",
        "import matplotlib.pyplot as plt\n",
        "iris = datasets.load_iris()\n",
        "X = iris.data[:100,1:3]\n",
        "y = iris.target[:100:]\n",
        "\n",
        "n = X.shape[0]\n",
        "n_test = int(np.rint(0.2 * n))\n",
        "\n",
        "# random sort\n",
        "idx = np.random.permutation(n)\n",
        "X = X[idx]\n",
        "y = y[idx]\n",
        "\n",
        "X_train = X[:-n_test]\n",
        "X_test = X[-n_test:]\n",
        "y_train = y[:-n_test]\n",
        "y_test = y[-n_test:]\n",
        "\n",
        "\"\"\" data normalization, improve convergence \"\"\"\n",
        "mu = np.mean(X_train, axis = 0)\n",
        "dst = np.std(X_train, axis = 0)\n",
        "X_train = (X_train - mu) / dst\n",
        "X_test = (X_test - mu) / dst\n",
        "print('train: {}'.format(X_train.shape))\n",
        "print('val: {}'.format(X_test.shape))"
      ],
      "metadata": {
        "id": "VT8yBarz7eH5",
        "colab": {
          "base_uri": "https://localhost:8080/"
        },
        "outputId": "14dfee09-b350-4dc1-9b5e-e3cb5f7969d1"
      },
      "execution_count": 33,
      "outputs": [
        {
          "output_type": "stream",
          "name": "stdout",
          "text": [
            "fatal: destination path 'machine_learning' already exists and is not an empty directory.\n",
            "train: (80, 2)\n",
            "val: (20, 2)\n"
          ]
        }
      ]
    },
    {
      "cell_type": "markdown",
      "source": [],
      "metadata": {
        "id": "0BiXNLva8PS6"
      }
    },
    {
      "cell_type": "code",
      "source": [
        "\"\"\"-------------------------------------------\"\"\"\n",
        "#Logistic Regression\n",
        "model = perceptron.Perceptron()\n",
        "model.setLoss('mse')\n",
        "model.setSteps(50)\n",
        "model.setPrintSteps(1)\n",
        "\n",
        "\n",
        "coeff = model.fit(X_train, y_train)\n",
        "#Evaluation (accuracy x clase)\n",
        "y_pred =model.predict(X_test)\n",
        "\n",
        "\n",
        "acc= metrics.accuracy(np.expand_dims(y_test, axis = 1) , y_pred)\n",
        "print('Acc Test {}'.format(acc))\n",
        "\n"
      ],
      "metadata": {
        "colab": {
          "base_uri": "https://localhost:8080/"
        },
        "id": "JCy3xmww8QxV",
        "outputId": "5a77d391-206e-43e0-9805-51e5f4d61873"
      },
      "execution_count": 30,
      "outputs": [
        {
          "output_type": "stream",
          "name": "stdout",
          "text": [
            "it 0 mse loss_bce 0.6825935573375854 loss_mse 0.24472370782699765\n",
            "it 0 acc 0.95\n",
            "it 1 mse loss_bce 0.6737433881012265 loss_mse 0.2403004037490514\n",
            "it 1 acc 1.0\n",
            "it 2 mse loss_bce 0.6650732370696868 loss_mse 0.23596923932320904\n",
            "it 2 acc 1.0\n",
            "it 3 mse loss_bce 0.6565809150771771 loss_mse 0.23172986974033236\n",
            "it 3 acc 1.0\n",
            "it 4 mse loss_bce 0.6482640718461731 loss_mse 0.22758178237736434\n",
            "it 4 acc 1.0\n",
            "it 5 mse loss_bce 0.6401202130022332 loss_mse 0.22352430978881474\n",
            "it 5 acc 1.0\n",
            "it 6 mse loss_bce 0.6321467166369652 loss_mse 0.21955664269188713\n",
            "it 6 acc 1.0\n",
            "it 7 mse loss_bce 0.6243408493168027 loss_mse 0.21567784281614294\n",
            "it 7 acc 1.0\n",
            "it 8 mse loss_bce 0.6166997814526839 loss_mse 0.21188685550483335\n",
            "it 8 acc 1.0\n",
            "it 9 mse loss_bce 0.609220601962445 loss_mse 0.20818252197127354\n",
            "it 9 acc 1.0\n",
            "it 10 mse loss_bce 0.6019003321735459 loss_mse 0.20456359112950567\n",
            "it 10 acc 1.0\n",
            "it 11 mse loss_bce 0.594735938928375 loss_mse 0.2010287309336906\n",
            "it 11 acc 1.0\n",
            "it 12 mse loss_bce 0.587724346867754 loss_mse 0.19757653917494217\n",
            "it 12 acc 1.0\n",
            "it 13 mse loss_bce 0.5808624498802579 loss_mse 0.19420555369749729\n",
            "it 13 acc 1.0\n",
            "it 14 mse loss_bce 0.574147121715564 loss_mse 0.1909142620080863\n",
            "it 14 acc 1.0\n",
            "it 15 mse loss_bce 0.5675752257692448 loss_mse 0.18770111026306727\n",
            "it 15 acc 1.0\n",
            "it 16 mse loss_bce 0.5611436240542684 loss_mse 0.1845645116272898\n",
            "it 16 acc 1.0\n",
            "it 17 mse loss_bce 0.5548491853810067 loss_mse 0.18150285400678673\n",
            "it 17 acc 1.0\n",
            "it 18 mse loss_bce 0.5486887927728935 loss_mse 0.17851450716428927\n",
            "it 18 acc 1.0\n",
            "it 19 mse loss_bce 0.5426593501490815 loss_mse 0.17559782923229925\n",
            "it 19 acc 1.0\n",
            "it 20 mse loss_bce 0.536757788308646 loss_mse 0.17275117264311088\n",
            "it 20 acc 1.0\n",
            "it 21 mse loss_bce 0.530981070253172 loss_mse 0.16997288949884726\n",
            "it 21 acc 1.0\n",
            "it 22 mse loss_bce 0.5253261958860539 loss_mse 0.1672613364073642\n",
            "it 22 acc 1.0\n",
            "it 23 mse loss_bce 0.519790206127623 loss_mse 0.16461487881187495\n",
            "it 23 acc 1.0\n",
            "it 24 mse loss_bce 0.5143701864854234 loss_mse 0.1620318948434634\n",
            "it 24 acc 1.0\n",
            "it 25 mse loss_bce 0.5090632701186527 loss_mse 0.15951077872637698\n",
            "it 25 acc 1.0\n",
            "it 26 mse loss_bce 0.5038666404350673 loss_mse 0.15704994376621156\n",
            "it 26 acc 1.0\n",
            "it 27 mse loss_bce 0.4987775332576062 loss_mse 0.1546478249509024\n",
            "it 27 acc 1.0\n",
            "it 28 mse loss_bce 0.4937932385966679 loss_mse 0.15230288119389676\n",
            "it 28 acc 1.0\n",
            "it 29 mse loss_bce 0.4889111020624676 loss_mse 0.150013597248069\n",
            "it 29 acc 1.0\n",
            "it 30 mse loss_bce 0.4841285259502359 loss_mse 0.14777848531790896\n",
            "it 30 acc 1.0\n",
            "it 31 mse loss_bce 0.4794429700292646 loss_mse 0.14559608639632726\n",
            "it 31 acc 1.0\n",
            "it 32 mse loss_bce 0.47485195206498576 loss_mse 0.1434649713511138\n",
            "it 32 acc 1.0\n",
            "it 33 mse loss_bce 0.4703530481014296 loss_mse 0.14138374178470586\n",
            "it 33 acc 1.0\n",
            "it 34 mse loss_bce 0.46594389252956725 loss_mse 0.13935103068949672\n",
            "it 34 acc 1.0\n",
            "it 35 mse loss_bce 0.46162217796523314 loss_mse 0.13736550291947586\n",
            "it 35 acc 1.0\n",
            "it 36 mse loss_bce 0.457385654958551 loss_mse 0.1354258554975571\n",
            "it 36 acc 1.0\n",
            "it 37 mse loss_bce 0.4532321315550836 loss_mse 0.133530817776542\n",
            "it 37 acc 1.0\n",
            "it 38 mse loss_bce 0.44915947272727985 loss_mse 0.13167915147029394\n",
            "it 38 acc 1.0\n",
            "it 39 mse loss_bce 0.4451655996932356 loss_mse 0.12986965057037833\n",
            "it 39 acc 1.0\n",
            "it 40 mse loss_bce 0.4412484891382986 loss_mse 0.12810114116215882\n",
            "it 40 acc 1.0\n",
            "it 41 mse loss_bce 0.43740617235365775 loss_mse 0.12637248115313876\n",
            "it 41 acc 1.0\n",
            "it 42 mse loss_bce 0.4336367343047408 loss_mse 0.12468255992520424\n",
            "it 42 acc 1.0\n",
            "it 43 mse loss_bce 0.429938312641028 loss_mse 0.12303029792135592\n",
            "it 43 acc 1.0\n",
            "it 44 mse loss_bce 0.42630909665774686 loss_mse 0.12141464617652416\n",
            "it 44 acc 1.0\n",
            "it 45 mse loss_bce 0.42274732621886074 loss_mse 0.1198345858011296\n",
            "it 45 acc 1.0\n",
            "it 46 mse loss_bce 0.41925129064978767 loss_mse 0.11828912742519368\n",
            "it 46 acc 1.0\n",
            "it 47 mse loss_bce 0.4158193276073887 loss_mse 0.11677731061000511\n",
            "it 47 acc 1.0\n",
            "it 48 mse loss_bce 0.4124498219339393 loss_mse 0.11529820323361635\n",
            "it 48 acc 1.0\n",
            "it 49 mse loss_bce 0.4091412045010431 loss_mse 0.11385090085577013\n",
            "it 49 acc 1.0\n",
            "Acc Test 0.95\n"
          ]
        }
      ]
    },
    {
      "cell_type": "code",
      "source": [
        "#--- view\n",
        "plt.scatter(X_test[y_test==0][:,0], X_test[y_test==0][:,1], color = 'red')\n",
        "plt.scatter(X_test[y_test==1][:,0], X_test[y_test==1][:,1], color = 'blue')\n",
        "x = np.linspace(-2, 2, 400)\n",
        "y = coeff[0] + coeff[1]*x\n",
        "plt.plot(x, y, label = f'y = {coeff[0]} + {coeff[1]}x')\n",
        "plt.grid(True)\n",
        "plt.legend()\n",
        "plt.show()"
      ],
      "metadata": {
        "id": "WEvauLmQ9aod",
        "outputId": "8cceb67a-3d20-4670-b8c8-c908eff369b2",
        "colab": {
          "base_uri": "https://localhost:8080/",
          "height": 430
        }
      },
      "execution_count": 31,
      "outputs": [
        {
          "output_type": "display_data",
          "data": {
            "text/plain": [
              "<Figure size 640x480 with 1 Axes>"
            ],
            "image/png": "[encoded data removed]"
          },
          "metadata": {}
        }
      ]
    }
  ],
  "metadata": {
    "language_info": {
      "name": "python"
    },
    "colab": {
      "provenance": []
    },
    "kernelspec": {
      "name": "python3",
      "display_name": "Python 3"
    }
  },
  "nbformat": 4,
  "nbformat_minor": 0
}