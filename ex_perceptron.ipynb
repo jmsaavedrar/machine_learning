{
  "cells": [
    {
      "cell_type": "code",
      "source": [],
      "metadata": {
        "id": "3QYxRX587dq-"
      },
      "execution_count": null,
      "outputs": []
    },
    {
      "cell_type": "code",
      "source": [
        "!git clone https://github.com/jmsaavedrar/machine_learning\n",
        "import sys\n",
        "sys.path.append('/content/machine_learning')\n",
        "import numpy as np\n",
        "import nn.perceptron as perceptron\n",
        "import sklearn.datasets as datasets\n",
        "import metrics.metrics as metrics\n",
        "import matplotlib.pyplot as plt\n",
        "iris = datasets.load_iris()\n",
        "X = iris.data[:100,1:3]\n",
        "y = iris.target[:100:]\n",
        "\n",
        "n = X.shape[0]\n",
        "n_test = int(np.rint(0.2 * n))\n",
        "\n",
        "# random sort\n",
        "idx = np.random.permutation(n)\n",
        "X = X[idx]\n",
        "y = y[idx]\n",
        "\n",
        "X_train = X[:-n_test]\n",
        "X_test = X[-n_test:]\n",
        "y_train = y[:-n_test]\n",
        "y_test = y[-n_test:]\n",
        "\n",
        "\"\"\" data normalization, improve convergence \"\"\"\n",
        "mu = np.mean(X_train, axis = 0)\n",
        "dst = np.std(X_train, axis = 0)\n",
        "X_train = (X_train - mu) / dst\n",
        "X_test = (X_test - mu) / dst\n",
        "print('train: {}'.format(X_train.shape))\n",
        "print('val: {}'.format(X_test.shape))"
      ],
      "metadata": {
        "id": "VT8yBarz7eH5",
        "colab": {
          "base_uri": "https://localhost:8080/"
        },
        "outputId": "b1d52d5b-a4cf-4783-ff13-84bcbdb6ef03"
      },
      "execution_count": 41,
      "outputs": [
        {
          "output_type": "stream",
          "name": "stdout",
          "text": [
            "fatal: destination path 'machine_learning' already exists and is not an empty directory.\n",
            "train: (80, 2)\n",
            "val: (20, 2)\n"
          ]
        }
      ]
    },
    {
      "cell_type": "markdown",
      "source": [],
      "metadata": {
        "id": "0BiXNLva8PS6"
      }
    },
    {
      "cell_type": "code",
      "source": [
        "\"\"\"-------------------------------------------\"\"\"\n",
        "#Logistic Regression\n",
        "model = perceptron.Perceptron()\n",
        "model.setLoss('mse')\n",
        "model.setSteps(50)\n",
        "model.setPrintSteps(1)\n",
        "\n",
        "\n",
        "coeff = model.fit(X_train, y_train)\n",
        "#Evaluation (accuracy x clase)\n",
        "y_pred =model.predict(X_test)\n",
        "\n",
        "\n",
        "acc= metrics.accuracy(np.expand_dims(y_test, axis = 1) , y_pred)\n",
        "print('Acc Test {}'.format(acc))\n",
        "\n"
      ],
      "metadata": {
        "colab": {
          "base_uri": "https://localhost:8080/"
        },
        "id": "JCy3xmww8QxV",
        "outputId": "2cc9e795-aefe-4b30-f846-01e0ef5fc7c8"
      },
      "execution_count": 47,
      "outputs": [
        {
          "output_type": "stream",
          "name": "stdout",
          "text": [
            "it 0 mse loss_bce 0.7419108353488932 loss_mse 0.2743485741004976\n",
            "it 0 acc 0.0\n",
            "it 1 mse loss_bce 0.7319604099944285 loss_mse 0.26938513506195677\n",
            "it 1 acc 0.025\n",
            "it 2 mse loss_bce 0.7222002835145453 loss_mse 0.2645130472154129\n",
            "it 2 acc 0.075\n",
            "it 3 mse loss_bce 0.712629384091666 loss_mse 0.25973306342079944\n",
            "it 3 acc 0.2375\n",
            "it 4 mse loss_bce 0.7032463815095926 loss_mse 0.25504570153568334\n",
            "it 4 acc 0.375\n",
            "it 5 mse loss_bce 0.6940497050554442 loss_mse 0.25045125542125474\n",
            "it 5 acc 0.5125\n",
            "it 6 mse loss_bce 0.685037561735602 loss_mse 0.2459498068161503\n",
            "it 6 acc 0.6\n",
            "it 7 mse loss_bce 0.6762079546098984 loss_mse 0.2415412378755116\n",
            "it 7 acc 0.6875\n",
            "it 8 mse loss_bce 0.6675587010646529 loss_mse 0.23722524418250074\n",
            "it 8 acc 0.7875\n",
            "it 9 mse loss_bce 0.6590874508630309 loss_mse 0.23300134805207567\n",
            "it 9 acc 0.8625\n",
            "it 10 mse loss_bce 0.6507917038299524 loss_mse 0.2288689119614828\n",
            "it 10 acc 0.9\n",
            "it 11 mse loss_bce 0.6426688270479064 loss_mse 0.22482715195802366\n",
            "it 11 acc 0.95\n",
            "it 12 mse loss_bce 0.634716071459019 loss_mse 0.22087515091159995\n",
            "it 12 acc 0.9625\n",
            "it 13 mse loss_bce 0.6269305877872153 loss_mse 0.2170118714968093\n",
            "it 13 acc 0.975\n",
            "it 14 mse loss_bce 0.619309441711944 loss_mse 0.21323616880649912\n",
            "it 14 acc 0.975\n",
            "it 15 mse loss_bce 0.611849628241473 loss_mse 0.2095468025153095\n",
            "it 15 acc 0.975\n",
            "it 16 mse loss_bce 0.6045480852489988 loss_mse 0.20594244852754073\n",
            "it 16 acc 0.9875\n",
            "it 17 mse loss_bce 0.5974017061486417 loss_mse 0.20242171005844348\n",
            "it 17 acc 0.9875\n",
            "it 18 mse loss_bce 0.5904073517007382 loss_mse 0.19898312811158259\n",
            "it 18 acc 0.9875\n",
            "it 19 mse loss_bce 0.5835618609466777 loss_mse 0.19562519132716982\n",
            "it 19 acc 0.9875\n",
            "it 20 mse loss_bce 0.5768620612828839 loss_mse 0.1923463451871458\n",
            "it 20 acc 0.9875\n",
            "it 21 mse loss_bce 0.5703047776914565 loss_mse 0.18914500057231345\n",
            "it 21 acc 1.0\n",
            "it 22 mse loss_bce 0.5638868411515554 loss_mse 0.1860195416750119\n",
            "it 22 acc 1.0\n",
            "it 23 mse loss_bce 0.5576050962609059 loss_mse 0.1829683332777316\n",
            "it 23 acc 1.0\n",
            "it 24 mse loss_bce 0.5514564081009532 loss_mse 0.17998972741378613\n",
            "it 24 acc 1.0\n",
            "it 25 mse loss_bce 0.5454376683822957 loss_mse 0.17708206943076416\n",
            "it 25 acc 1.0\n",
            "it 26 mse loss_bce 0.5395458009092055 loss_mse 0.17424370348109322\n",
            "it 26 acc 1.0\n",
            "it 27 mse loss_bce 0.5337777664034091 loss_mse 0.17147297746675366\n",
            "it 27 acc 1.0\n",
            "it 28 mse loss_bce 0.5281305667279667 loss_mse 0.16876824746709737\n",
            "it 28 acc 1.0\n",
            "it 29 mse loss_bce 0.5226012485521542 loss_mse 0.16612788167995268\n",
            "it 29 acc 1.0\n",
            "it 30 mse loss_bce 0.517186906497823 loss_mse 0.16355026390683278\n",
            "it 30 acc 1.0\n",
            "it 31 mse loss_bce 0.5118846858068713 loss_mse 0.16103379661320116\n",
            "it 31 acc 1.0\n",
            "it 32 mse loss_bce 0.5066917845682888 loss_mse 0.15857690359447077\n",
            "it 32 acc 1.0\n",
            "it 33 mse loss_bce 0.5016054555418122 loss_mse 0.1561780322777987\n",
            "it 33 acc 1.0\n",
            "it 34 mse loss_bce 0.49662300761360995 loss_mse 0.15383565568885452\n",
            "it 34 acc 1.0\n",
            "it 35 mse loss_bce 0.4917418069176523 loss_mse 0.15154827411164856\n",
            "it 35 acc 1.0\n",
            "it 36 mse loss_bce 0.4869592776545802 loss_mse 0.14931441646825985\n",
            "it 36 acc 1.0\n",
            "it 37 mse loss_bce 0.4822729026379795 loss_mse 0.14713264144394672\n",
            "it 37 acc 1.0\n",
            "it 38 mse loss_bce 0.4776802235960564 loss_mse 0.14500153838169574\n",
            "it 38 acc 1.0\n",
            "it 39 mse loss_bce 0.47317884125480036 loss_mse 0.14291972796879865\n",
            "it 39 acc 1.0\n",
            "it 40 mse loss_bce 0.4687664152268475 loss_mse 0.14088586273657083\n",
            "it 40 acc 1.0\n",
            "it 41 mse loss_bce 0.4644406637284358 loss_mse 0.13889862739285702\n",
            "it 41 acc 1.0\n",
            "it 42 mse loss_bce 0.4601993631450833 loss_mse 0.13695673900553293\n",
            "it 42 acc 1.0\n",
            "it 43 mse loss_bce 0.45604034746493644 loss_mse 0.1350589470538146\n",
            "it 43 acc 1.0\n",
            "it 44 mse loss_bce 0.4519615075971336 loss_mse 0.13320403336284325\n",
            "it 44 acc 1.0\n",
            "it 45 mse loss_bce 0.4479607905910111 loss_mse 0.1313908119357295\n",
            "it 45 acc 1.0\n",
            "it 46 mse loss_bce 0.4440361987705522 loss_mse 0.12961812869602232\n",
            "it 46 acc 1.0\n",
            "it 47 mse loss_bce 0.4401857887971408 loss_mse 0.12788486115241743\n",
            "it 47 acc 1.0\n",
            "it 48 mse loss_bce 0.43640767067243547 loss_mse 0.12618991799644078\n",
            "it 48 acc 1.0\n",
            "it 49 mse loss_bce 0.43270000669201425 loss_mse 0.12453223864283167\n",
            "it 49 acc 1.0\n",
            "Acc Test 0.95\n"
          ]
        }
      ]
    },
    {
      "cell_type": "code",
      "source": [
        "#--- view\n",
        "plt.scatter(X_test[y_test==0][:,0], X_test[y_test==0][:,1], color = 'red')\n",
        "plt.scatter(X_test[y_test==1][:,0], X_test[y_test==1][:,1], color = 'blue')\n",
        "x1 = np.linspace(-2, 2, 400)\n",
        "x2 = - (coeff[0] + coeff[1]*x1) /coeff[2]\n",
        "plt.plot(x1, x2, label = f'{coeff[0]}  {coeff[1]} {coeff[2]}')\n",
        "plt.grid(True)\n",
        "plt.legend()\n",
        "plt.show()"
      ],
      "metadata": {
        "id": "WEvauLmQ9aod",
        "outputId": "4ba5c977-76f6-4a00-d987-898f9db8df22",
        "colab": {
          "base_uri": "https://localhost:8080/",
          "height": 430
        }
      },
      "execution_count": 48,
      "outputs": [
        {
          "output_type": "display_data",
          "data": {
            "text/plain": [
              "<Figure size 640x480 with 1 Axes>"
            ],
            "image/png": "[encoded data removed]"
          },
          "metadata": {}
        }
      ]
    }
  ],
  "metadata": {
    "language_info": {
      "name": "python"
    },
    "colab": {
      "provenance": []
    },
    "kernelspec": {
      "name": "python3",
      "display_name": "Python 3"
    }
  },
  "nbformat": 4,
  "nbformat_minor": 0
}