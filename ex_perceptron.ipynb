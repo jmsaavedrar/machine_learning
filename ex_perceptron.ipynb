{
  "cells": [
    {
      "cell_type": "code",
      "execution_count": 3,
      "metadata": {
        "id": "jpS2LDK3yiUL",
        "outputId": "f9e17ba3-da25-4bbb-8612-91e04ae28182",
        "colab": {
          "base_uri": "https://localhost:8080/",
          "height": 418
        }
      },
      "outputs": [
        {
          "output_type": "stream",
          "name": "stdout",
          "text": [
            "Cloning into 'your-repository'...\n",
            "fatal: could not read Username for 'https://github.com': No such device or address\n"
          ]
        },
        {
          "output_type": "error",
          "ename": "ModuleNotFoundError",
          "evalue": "No module named 'nn'",
          "traceback": [
            "\u001b[0;31m---------------------------------------------------------------------------\u001b[0m",
            "\u001b[0;31mModuleNotFoundError\u001b[0m                       Traceback (most recent call last)",
            "\u001b[0;32m<ipython-input-3-4bc844d55402>\u001b[0m in \u001b[0;36m<cell line: 0>\u001b[0;34m()\u001b[0m\n\u001b[1;32m      1\u001b[0m \u001b[0mget_ipython\u001b[0m\u001b[0;34m(\u001b[0m\u001b[0;34m)\u001b[0m\u001b[0;34m.\u001b[0m\u001b[0msystem\u001b[0m\u001b[0;34m(\u001b[0m\u001b[0;34m'git clone https://github.com/your-username/your-repository.git'\u001b[0m\u001b[0;34m)\u001b[0m\u001b[0;34m\u001b[0m\u001b[0;34m\u001b[0m\u001b[0m\n\u001b[1;32m      2\u001b[0m \u001b[0;32mimport\u001b[0m \u001b[0mnumpy\u001b[0m \u001b[0;32mas\u001b[0m \u001b[0mnp\u001b[0m\u001b[0;34m\u001b[0m\u001b[0;34m\u001b[0m\u001b[0m\n\u001b[0;32m----> 3\u001b[0;31m \u001b[0;32mimport\u001b[0m \u001b[0mnn\u001b[0m\u001b[0;34m.\u001b[0m\u001b[0mperceptron\u001b[0m \u001b[0;32mas\u001b[0m \u001b[0mperceptron\u001b[0m\u001b[0;34m\u001b[0m\u001b[0;34m\u001b[0m\u001b[0m\n\u001b[0m\u001b[1;32m      4\u001b[0m \u001b[0;32mimport\u001b[0m \u001b[0msklearn\u001b[0m\u001b[0;34m.\u001b[0m\u001b[0mdatasets\u001b[0m \u001b[0;32mas\u001b[0m \u001b[0mdatasets\u001b[0m\u001b[0;34m\u001b[0m\u001b[0;34m\u001b[0m\u001b[0m\n\u001b[1;32m      5\u001b[0m \u001b[0;32mimport\u001b[0m \u001b[0mmetrics\u001b[0m\u001b[0;34m.\u001b[0m\u001b[0mmetrics\u001b[0m \u001b[0;32mas\u001b[0m \u001b[0mmetrics\u001b[0m\u001b[0;34m\u001b[0m\u001b[0;34m\u001b[0m\u001b[0m\n",
            "\u001b[0;31mModuleNotFoundError\u001b[0m: No module named 'nn'",
            "",
            "\u001b[0;31m---------------------------------------------------------------------------\u001b[0;32m\nNOTE: If your import is failing due to a missing package, you can\nmanually install dependencies using either !pip or !apt.\n\nTo view examples of installing some common dependencies, click the\n\"Open Examples\" button below.\n\u001b[0;31m---------------------------------------------------------------------------\u001b[0m\n"
          ],
          "errorDetails": {
            "actions": [
              {
                "action": "open_url",
                "actionText": "Open Examples",
                "url": "/notebooks/snippets/importing_libraries.ipynb"
              }
            ]
          }
        }
      ],
      "source": [
        "!git clone https://github.com/your-username/your-repository.git\n",
        "import numpy as np\n",
        "import nn.perceptron as perceptron\n",
        "import sklearn.datasets as datasets\n",
        "import metrics.metrics as metrics\n",
        "import matplotlib.pyplot as plt\n",
        "iris = datasets.load_iris()\n",
        "X = iris.data[:100,1:3]\n",
        "y = iris.target[:100:]\n",
        "\n",
        "n = X.shape[0]\n",
        "n_test = int(np.rint(0.2 * n))\n",
        "\n",
        "# random sort\n",
        "idx = np.random.permutation(n)\n",
        "X = X[idx]\n",
        "y = y[idx]\n",
        "\n",
        "X_train = X[:-n_test]\n",
        "X_test = X[-n_test:]\n",
        "y_train = y[:-n_test]\n",
        "y_test = y[-n_test:]\n",
        "\n",
        "\"\"\" data normalization, improve convergence \"\"\"\n",
        "mu = np.mean(X_train, axis = 0)\n",
        "dst = np.std(X_train, axis = 0)\n",
        "X_train = (X_train - mu) / dst\n",
        "X_test = (X_test - mu) / dst\n",
        "\"\"\"-------------------------------------------\"\"\"\n",
        "#Logistic Regression\n",
        "model = perceptron.Perceptron()\n",
        "model.setLoss('mse')\n",
        "model.setSteps(50)\n",
        "model.setPrintSteps(1)\n",
        "\n",
        "\n",
        "coeff = model.fit(X_train, y_train)\n",
        "#Evaluation (accuracy x clase)\n",
        "y_pred =model.predict(X_test)\n",
        "\n",
        "\n",
        "acc= metrics.accuracy(np.expand_dims(y_test, axis = 1) , y_pred)\n",
        "print('Acc Test {}'.format(acc))\n",
        "#--- view\n",
        "plt.scatter(X_test[y_test==0][:,0], X_test[y_test==0][:,1], color = 'red')\n",
        "plt.scatter(X_test[y_test==1][:,0], X_test[y_test==1][:,1], color = 'blue')\n",
        "x = np.linspace(-2, 2, 400)\n",
        "y = coeff[0] + coeff[1]*x\n",
        "plt.plot(x, y, label = f'y = {coeff[0]} + {coeff[1]}x')\n",
        "plt.grid(True)\n",
        "plt.legend()\n",
        "plt.show()"
      ]
    }
  ],
  "metadata": {
    "language_info": {
      "name": "python"
    },
    "colab": {
      "provenance": []
    },
    "kernelspec": {
      "name": "python3",
      "display_name": "Python 3"
    }
  },
  "nbformat": 4,
  "nbformat_minor": 0
}