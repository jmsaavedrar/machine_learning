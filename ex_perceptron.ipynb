{
  "cells": [
    {
      "cell_type": "code",
      "source": [],
      "metadata": {
        "id": "3QYxRX587dq-"
      },
      "execution_count": null,
      "outputs": []
    },
    {
      "cell_type": "code",
      "source": [
        "!git clone https://github.com/jmsaavedrar/machine_learning\n",
        "import sys\n",
        "sys.path.append('/content/machine_learning')\n",
        "import numpy as np\n",
        "import nn.perceptron as perceptron\n",
        "import sklearn.datasets as datasets\n",
        "import metrics.metrics as metrics\n",
        "import matplotlib.pyplot as plt\n",
        "iris = datasets.load_iris()\n",
        "X = iris.data[:100,1:3]\n",
        "y = iris.target[:100:]\n",
        "\n",
        "n = X.shape[0]\n",
        "n_test = int(np.rint(0.2 * n))\n",
        "\n",
        "# random sort\n",
        "idx = np.random.permutation(n)\n",
        "X = X[idx]\n",
        "y = y[idx]\n",
        "\n",
        "X_train = X[:-n_test]\n",
        "X_test = X[-n_test:]\n",
        "y_train = y[:-n_test]\n",
        "y_test = y[-n_test:]\n",
        "\n",
        "\"\"\" data normalization, improve convergence \"\"\"\n",
        "mu = np.mean(X_train, axis = 0)\n",
        "dst = np.std(X_train, axis = 0)\n",
        "X_train = (X_train - mu) / dst\n",
        "X_test = (X_test - mu) / dst\n",
        "print('train: {}'.format(X_train.shape))\n",
        "print('val: {}'.format(X_test.shape))"
      ],
      "metadata": {
        "id": "VT8yBarz7eH5",
        "colab": {
          "base_uri": "https://localhost:8080/"
        },
        "outputId": "54480018-7276-47cf-e77e-e65a6c674e01"
      },
      "execution_count": null,
      "outputs": [
        {
          "output_type": "stream",
          "name": "stdout",
          "text": [
            "fatal: destination path 'machine_learning' already exists and is not an empty directory.\n",
            "train: (80, 2)\n",
            "val: (20, 2)\n"
          ]
        }
      ]
    },
    {
      "cell_type": "markdown",
      "source": [],
      "metadata": {
        "id": "0BiXNLva8PS6"
      }
    },
    {
      "cell_type": "code",
      "source": [
        "\"\"\"-------------------------------------------\"\"\"\n",
        "#Logistic Regression\n",
        "model = perceptron.Perceptron()\n",
        "model.setLoss('mse')\n",
        "model.setSteps(50)\n",
        "model.setPrintSteps(1)\n",
        "\n",
        "\n",
        "coeff = model.fit(X_train, y_train)\n",
        "#Evaluation (accuracy x clase)\n",
        "y_pred =model.predict(X_test)\n",
        "\n",
        "\n",
        "acc= metrics.accuracy(np.expand_dims(y_test, axis = 1) , y_pred)\n",
        "print('Acc Test {}'.format(acc))\n",
        "\n"
      ],
      "metadata": {
        "colab": {
          "base_uri": "https://localhost:8080/"
        },
        "id": "JCy3xmww8QxV",
        "outputId": "23a614bb-8f17-49c2-baff-2576202754f6"
      },
      "execution_count": null,
      "outputs": [
        {
          "output_type": "stream",
          "name": "stdout",
          "text": [
            "it 0 mse loss_bce 0.7192699043760953 loss_mse 0.2630222838314205\n",
            "it 0 acc 0.3375\n",
            "it 1 mse loss_bce 0.7106630667597807 loss_mse 0.2587309584602616\n",
            "it 1 acc 0.4\n",
            "it 2 mse loss_bce 0.7022129892826043 loss_mse 0.254517771666822\n",
            "it 2 acc 0.4375\n",
            "it 3 mse loss_bce 0.6939181597805509 loss_mse 0.2503826822819609\n",
            "it 3 acc 0.5\n",
            "it 4 mse loss_bce 0.6857769330806931 loss_mse 0.24632551621967574\n",
            "it 4 acc 0.55\n",
            "it 5 mse loss_bce 0.6777875427644028 loss_mse 0.24234597504661187\n",
            "it 5 acc 0.575\n",
            "it 6 mse loss_bce 0.6699481127012383 loss_mse 0.23844364462276815\n",
            "it 6 acc 0.6625\n",
            "it 7 mse loss_bce 0.6622566682878872 loss_mse 0.2346180037336012\n",
            "it 7 acc 0.725\n",
            "it 8 mse loss_bce 0.6547111473360194 loss_mse 0.23086843264213225\n",
            "it 8 acc 0.725\n",
            "it 9 mse loss_bce 0.6473094105620978 loss_mse 0.22719422149817065\n",
            "it 9 acc 0.8\n",
            "it 10 mse loss_bce 0.6400492516409837 loss_mse 0.22359457855021336\n",
            "it 10 acc 0.8125\n",
            "it 11 mse loss_bce 0.6329284067934509 loss_mse 0.22006863811379312\n",
            "it 11 acc 0.825\n",
            "it 12 mse loss_bce 0.62594456388541 loss_mse 0.21661546825791653\n",
            "it 12 acc 0.875\n",
            "it 13 mse loss_bce 0.619095371023697 loss_mse 0.21323407817864948\n",
            "it 13 acc 0.8875\n",
            "it 14 mse loss_bce 0.6123784446396588 loss_mse 0.2099234252358036\n",
            "it 14 acc 0.9\n",
            "it 15 mse loss_bce 0.6057913770574629 loss_mse 0.2066824216350037\n",
            "it 15 acc 0.9125\n",
            "it 16 mse loss_bce 0.5993317435490738 loss_mse 0.20350994074314457\n",
            "it 16 acc 0.925\n",
            "it 17 mse loss_bce 0.5929971088821956 loss_mse 0.20040482303036294\n",
            "it 17 acc 0.925\n",
            "it 18 mse loss_bce 0.5867850333711926 loss_mse 0.19736588163616614\n",
            "it 18 acc 0.9375\n",
            "it 19 mse loss_bce 0.5806930784441187 loss_mse 0.19439190756128305\n",
            "it 19 acc 0.95\n",
            "it 20 mse loss_bce 0.5747188117415447 loss_mse 0.19148167449016631\n",
            "it 20 acc 0.9625\n",
            "it 21 mse loss_bce 0.5688598117649131 loss_mse 0.18863394325190738\n",
            "it 21 acc 0.9625\n",
            "it 22 mse loss_bce 0.5631136720937242 loss_mse 0.18584746592966533\n",
            "it 22 acc 0.9625\n",
            "it 23 mse loss_bce 0.5574780051920161 loss_mse 0.18312098963059978\n",
            "it 23 acc 0.9625\n",
            "it 24 mse loss_bce 0.5519504458253753 loss_mse 0.18045325992977698\n",
            "it 24 acc 0.975\n",
            "it 25 mse loss_bce 0.5465286541101785 loss_mse 0.1778430240026315\n",
            "it 25 acc 0.975\n",
            "it 26 mse loss_bce 0.5412103182169249 loss_mse 0.17528903346135385\n",
            "it 26 acc 0.975\n",
            "it 27 mse loss_bce 0.5359931567494595 loss_mse 0.17279004691107908\n",
            "it 27 acc 0.975\n",
            "it 28 mse loss_bce 0.530874920821598 loss_mse 0.17034483224200972\n",
            "it 28 acc 0.975\n",
            "it 29 mse loss_bce 0.5258533958522275 loss_mse 0.167952168673656\n",
            "it 29 acc 0.975\n",
            "it 30 mse loss_bce 0.5209264030993677 loss_mse 0.16561084856724792\n",
            "it 30 acc 0.975\n",
            "it 31 mse loss_bce 0.5160918009529816 loss_mse 0.16331967902209935\n",
            "it 31 acc 0.975\n",
            "it 32 mse loss_bce 0.5113474860055529 loss_mse 0.16107748327131138\n",
            "it 32 acc 0.975\n",
            "it 33 mse loss_bce 0.5066913939185949 loss_mse 0.15888310189171329\n",
            "it 33 acc 0.975\n",
            "it 34 mse loss_bce 0.5021215001023812 loss_mse 0.1567353938423755\n",
            "it 34 acc 0.975\n",
            "it 35 mse loss_bce 0.4976358202252742 loss_mse 0.15463323734541565\n",
            "it 35 acc 0.975\n",
            "it 36 mse loss_bce 0.49323241056809836 loss_mse 0.15257553062215862\n",
            "it 36 acc 0.975\n",
            "it 37 mse loss_bce 0.4889093682380917 loss_mse 0.15056119249703492\n",
            "it 37 acc 0.9875\n",
            "it 38 mse loss_bce 0.48466483125604415 loss_mse 0.14858916288090723\n",
            "it 38 acc 0.9875\n",
            "it 39 mse loss_bce 0.48049697852934037 loss_mse 0.14665840314481846\n",
            "it 39 acc 0.9875\n",
            "it 40 mse loss_bce 0.4764040297227501 loss_mse 0.14476789639446652\n",
            "it 40 acc 0.9875\n",
            "it 41 mse loss_bce 0.4723842450379605 loss_mse 0.14291664765503037\n",
            "it 41 acc 0.9875\n",
            "it 42 mse loss_bce 0.4684359249120402 loss_mse 0.14110368397531164\n",
            "it 42 acc 0.9875\n",
            "it 43 mse loss_bce 0.4645574096442422 loss_mse 0.13932805445951799\n",
            "it 43 acc 0.9875\n",
            "it 44 mse loss_bce 0.4607470789598172 loss_mse 0.1375888302343969\n",
            "it 44 acc 0.9875\n",
            "it 45 mse loss_bce 0.4570033515188099 loss_mse 0.135885104358844\n",
            "it 45 acc 0.9875\n",
            "it 46 mse loss_bce 0.4533246843771449 loss_mse 0.13421599168254822\n",
            "it 46 acc 0.9875\n",
            "it 47 mse loss_bce 0.44970957240669385 loss_mse 0.13258062865970802\n",
            "it 47 acc 0.9875\n",
            "it 48 mse loss_bce 0.44615654768042656 loss_mse 0.13097817312335241\n",
            "it 48 acc 0.9875\n",
            "it 49 mse loss_bce 0.44266417882820513 loss_mse 0.12940780402533078\n",
            "it 49 acc 0.9875\n",
            "Acc Test 1.0\n"
          ]
        }
      ]
    },
    {
      "cell_type": "code",
      "source": [
        "#--- view\n",
        "plt.scatter(X_test[y_test==0][:,0], X_test[y_test==0][:,1], color = 'red')\n",
        "plt.scatter(X_test[y_test==1][:,0], X_test[y_test==1][:,1], color = 'blue')\n",
        "x1 = np.linspace(-2, 2, 400)\n",
        "x2 = - (coeff[0] + coeff[1]*x1) /coeff[2]\n",
        "plt.plot(x1, x2, label = f'{coeff[0]}  {coeff[1]} {coeff[2]}')\n",
        "plt.grid(True)\n",
        "plt.legend()\n",
        "plt.show()"
      ],
      "metadata": {
        "id": "WEvauLmQ9aod",
        "outputId": "33bcb182-7f37-4a84-93eb-4798821b7164",
        "colab": {
          "base_uri": "https://localhost:8080/",
          "height": 430
        }
      },
      "execution_count": 56,
      "outputs": [
        {
          "output_type": "display_data",
          "data": {
            "text/plain": [
              "<Figure size 640x480 with 1 Axes>"
            ],
            "image/png": "[encoded data removed]"
          },
          "metadata": {}
        }
      ]
    }
  ],
  "metadata": {
    "language_info": {
      "name": "python"
    },
    "colab": {
      "provenance": []
    },
    "kernelspec": {
      "name": "python3",
      "display_name": "Python 3"
    }
  },
  "nbformat": 4,
  "nbformat_minor": 0
}