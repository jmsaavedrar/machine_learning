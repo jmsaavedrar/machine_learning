{
  "cells": [
    {
      "cell_type": "code",
      "execution_count": 56,
      "metadata": {
        "id": "3QYxRX587dq-"
      },
      "outputs": [],
      "source": []
    },
    {
      "cell_type": "code",
      "execution_count": 1,
      "metadata": {
        "colab": {
          "base_uri": "https://localhost:8080/"
        },
        "id": "VT8yBarz7eH5",
        "outputId": "54b6f431-4faf-4724-9b05-0e61dea0958a"
      },
      "outputs": [
        {
          "name": "stdout",
          "output_type": "stream",
          "text": [
            "Cloning into 'machine_learning'...\n",
            "remote: Enumerating objects: 443, done.\u001b[K\n",
            "remote: Counting objects: 100% (105/105), done.\u001b[K\n",
            "remote: Compressing objects: 100% (68/68), done.\u001b[K\n",
            "remote: Total 443 (delta 66), reused 45 (delta 34), pack-reused 338 (from 1)\u001b[K\n",
            "Receiving objects: 100% (443/443), 662.57 KiB | 2.87 MiB/s, done.\n",
            "Resolving deltas: 100% (223/223), done.\n",
            "(20,)\n",
            "(20, 2)\n"
          ]
        }
      ],
      "source": [
        "!git clone https://github.com/jmsaavedrar/machine_learning\n",
        "import sys\n",
        "sys.path.append('/content/machine_learning')\n",
        "import numpy as np\n",
        "import nn.perceptron as perceptron\n",
        "import sklearn.datasets as datasets\n",
        "import metrics.metrics as metrics\n",
        "import matplotlib.pyplot as plt\n",
        "#dataset\n",
        "iris = datasets.load_iris()\n",
        "\n",
        "x = np.array(iris.data)\n",
        "y = np.array(iris.target)\n",
        "#classes\n",
        "c1 = 0\n",
        "c2 = 1\n",
        "#features\n",
        "f1 = 0\n",
        "f2 = 1\n",
        "\n",
        "idxs = np.where( (y == c1) | (y == c2) )[0]\n",
        "x = x[idxs,:]\n",
        "y = y[idxs]\n",
        "y[y==c1] = 0\n",
        "y[y==c2] = 1\n",
        "n = x.shape[0]\n",
        "n_test = int(np.rint(0.2 * n))\n",
        "\n",
        "# random sort\n",
        "idx = np.random.permutation(n)\n",
        "X = x[idx,:][:,[f1,f2]]\n",
        "y = y[idx]\n",
        "\n",
        "X_train = X[:-n_test]\n",
        "y_train = y[:-n_test]\n",
        "X_test = X[-n_test:]\n",
        "y_test = y[-n_test:]\n",
        "\n",
        "\"\"\" data normalization, improve convergence \"\"\"\n",
        "mu = np.mean(X_train, axis = 0)\n",
        "dst = np.std(X_train, axis = 0)\n",
        "X_train = (X_train - mu) / dst\n",
        "X_test = (X_test - mu) / dst\n",
        "\"\"\"-------------------------------------------\"\"\"\n",
        "print(y_test.shape)\n",
        "print(X_test.shape)"
      ]
    },
    {
      "cell_type": "markdown",
      "metadata": {
        "id": "0BiXNLva8PS6"
      },
      "source": []
    },
    {
      "cell_type": "code",
      "execution_count": 64,
      "metadata": {
        "colab": {
          "base_uri": "https://localhost:8080/"
        },
        "id": "JCy3xmww8QxV",
        "outputId": "7fe45995-9a19-42b8-c3dd-f35384b1fcf2"
      },
      "outputs": [
        {
          "name": "stdout",
          "output_type": "stream",
          "text": [
            "it 0 bce loss_bce 0.7404320590416356 loss_mse 0.2734890512966456\n",
            "it 0 acc 0.2875\n",
            "it 1 bce loss_bce 0.7134144692796195 loss_mse 0.26008200111902957\n",
            "it 1 acc 0.4\n",
            "it 2 bce loss_bce 0.6879803078263527 loss_mse 0.24743070761156788\n",
            "it 2 acc 0.5875\n",
            "it 3 bce loss_bce 0.6640398611685822 loss_mse 0.23552012688889484\n",
            "it 3 acc 0.675\n",
            "it 4 bce loss_bce 0.6415046502135836 loss_mse 0.2243284393226855\n",
            "it 4 acc 0.75\n",
            "it 5 bce loss_bce 0.6202883324550343 loss_mse 0.21382857562945196\n",
            "it 5 acc 0.85\n",
            "it 6 bce loss_bce 0.600307419108989 loss_mse 0.20398964115030677\n",
            "it 6 acc 0.9\n",
            "it 7 bce loss_bce 0.5814818171330141 loss_mse 0.19477818942599254\n",
            "it 7 acc 0.925\n",
            "it 8 bce loss_bce 0.563735212334369 loss_mse 0.1861593185131922\n",
            "it 8 acc 0.925\n",
            "it 9 bce loss_bce 0.5469953134609804 loss_mse 0.178097581800652\n",
            "it 9 acc 0.9625\n",
            "it 10 bce loss_bce 0.5311939786794231 loss_mse 0.17055771869430894\n",
            "it 10 acc 0.9625\n",
            "it 11 bce loss_bce 0.5162672456907347 loss_mse 0.1635052196066468\n",
            "it 11 acc 0.9625\n",
            "it 12 bce loss_bce 0.5021552854260568 loss_mse 0.15690674485686953\n",
            "it 12 acc 0.975\n",
            "it 13 bce loss_bce 0.48880229724637747 loss_mse 0.1507304192250875\n",
            "it 13 acc 0.975\n",
            "it 14 bce loss_bce 0.4761563612023657 loss_mse 0.14494602387673755\n",
            "it 14 acc 0.975\n",
            "it 15 bce loss_bce 0.4641692604563243 loss_mse 0.13952510594945128\n",
            "it 15 acc 0.975\n",
            "it 16 bce loss_bce 0.45279628460859234 loss_mse 0.13444102388490903\n",
            "it 16 acc 0.975\n",
            "it 17 bce loss_bce 0.4419960225152032 loss_mse 0.12966894404219678\n",
            "it 17 acc 0.975\n",
            "it 18 bce loss_bce 0.4317301512886037 loss_mse 0.1251858015517962\n",
            "it 18 acc 0.975\n",
            "it 19 bce loss_bce 0.42196322655722057 loss_mse 0.12097023594930634\n",
            "it 19 acc 0.975\n",
            "it 20 bce loss_bce 0.41266247771604014 loss_mse 0.11700250996745801\n",
            "it 20 acc 0.975\n",
            "it 21 bce loss_bce 0.4037976108076782 loss_mse 0.11326441800590745\n",
            "it 21 acc 0.975\n",
            "it 22 bce loss_bce 0.39534062080257293 loss_mse 0.10973918924376538\n",
            "it 22 acc 0.975\n",
            "it 23 bce loss_bce 0.38726561436624785 loss_mse 0.10641138908995947\n",
            "it 23 acc 0.975\n",
            "it 24 bce loss_bce 0.3795486436799389 loss_mse 0.1032668216496833\n",
            "it 24 acc 0.975\n",
            "it 25 bce loss_bce 0.3721675514895405 loss_mse 0.1002924350852981\n",
            "it 25 acc 0.975\n",
            "it 26 bce loss_bce 0.3651018272713812 loss_mse 0.09747623113123402\n",
            "it 26 acc 0.975\n",
            "it 27 bce loss_bce 0.3583324742000107 loss_mse 0.09480717955150998\n",
            "it 27 acc 0.975\n",
            "it 28 bce loss_bce 0.35184188646470027 loss_mse 0.09227513797622548\n",
            "it 28 acc 0.975\n",
            "it 29 bce loss_bce 0.34561373639274184 loss_mse 0.08987077729487239\n",
            "it 29 acc 0.9875\n",
            "it 30 bce loss_bce 0.339632870786736 loss_mse 0.08758551259887573\n",
            "it 30 acc 0.9875\n",
            "it 31 bce loss_bce 0.3338852158602317 loss_mse 0.08541143953654676\n",
            "it 31 acc 0.9875\n",
            "it 32 bce loss_bce 0.3283576901536935 loss_mse 0.08334127585710109\n",
            "it 32 acc 0.9875\n",
            "it 33 bce loss_bce 0.3230381248249051 loss_mse 0.08136830786586732\n",
            "it 33 acc 0.9875\n",
            "it 34 bce loss_bce 0.31791519073001523 loss_mse 0.07948634148193036\n",
            "it 34 acc 0.9875\n",
            "it 35 bce loss_bce 0.3129783317400232 loss_mse 0.0776896575757485\n",
            "it 35 acc 0.9875\n",
            "it 36 bce loss_bce 0.30821770376999613 loss_mse 0.07597297126280528\n",
            "it 36 acc 0.9875\n",
            "it 37 bce loss_bce 0.30362411903277764 loss_mse 0.07433139483634825\n",
            "it 37 acc 0.9875\n",
            "it 38 bce loss_bce 0.29918899506400365 loss_mse 0.07276040403491346\n",
            "it 38 acc 0.9875\n",
            "it 39 bce loss_bce 0.29490430809988244 loss_mse 0.07125580735654166\n",
            "it 39 acc 0.9875\n",
            "it 40 bce loss_bce 0.2907625504227555 loss_mse 0.0698137181498326\n",
            "it 40 acc 0.9875\n",
            "it 41 bce loss_bce 0.28675669132146575 loss_mse 0.0684305292311497\n",
            "it 41 acc 0.9875\n",
            "it 42 bce loss_bce 0.2828801413437604 loss_mse 0.0671028897965997\n",
            "it 42 acc 0.9875\n",
            "it 43 bce loss_bce 0.2791267195461859 loss_mse 0.06582768441633102\n",
            "it 43 acc 0.9875\n",
            "it 44 bce loss_bce 0.2754906234731414 loss_mse 0.06460201391686174\n",
            "it 44 acc 0.9875\n",
            "it 45 bce loss_bce 0.2719664016209516 loss_mse 0.06342317797434155\n",
            "it 45 acc 0.9875\n",
            "it 46 bce loss_bce 0.26854892816505893 loss_mse 0.0622886592577397\n",
            "it 46 acc 0.9875\n",
            "it 47 bce loss_bce 0.2652333797487957 loss_mse 0.061196108975878225\n",
            "it 47 acc 0.9875\n",
            "it 48 bce loss_bce 0.2620152141507882 loss_mse 0.0601433336959851\n",
            "it 48 acc 0.9875\n",
            "it 49 bce loss_bce 0.2588901506649829 loss_mse 0.059128283314050845\n",
            "it 49 acc 0.9875\n",
            "[0.26677559] 0\n",
            "[0.22662184] 0\n",
            "[0.82649381] 1\n",
            "[0.21605387] 0\n",
            "[0.10390418] 0\n",
            "[0.14752384] 0\n",
            "[0.82178953] 1\n",
            "[0.51057245] 1\n",
            "[0.86322531] 1\n",
            "[0.2272522] 0\n",
            "[0.89590863] 1\n",
            "[0.84716031] 1\n",
            "[0.18164322] 0\n",
            "[0.10390418] 0\n",
            "[0.67350493] 1\n",
            "[0.18110973] 0\n",
            "[0.11589164] 0\n",
            "[0.08318134] 0\n",
            "[0.10390418] 0\n",
            "[0.07429301] 0\n",
            "Acc Test 1.0\n"
          ]
        }
      ],
      "source": [
        "#Logistic Regression\n",
        "model = perceptron.Perceptron()\n",
        "model.setLoss('bce')\n",
        "model.setSteps(50)\n",
        "model.setPrintSteps(1)\n",
        "\n",
        "\n",
        "coeff = model.fit(X_train, y_train)\n",
        "#Evaluation (accuracy x clase)\n",
        "y_pred =model.predict(X_test)\n",
        "acc= metrics.accuracy(np.expand_dims(y_test, axis = 1) , y_pred)\n",
        "for i in  range(len(y_pred)) :\n",
        "    print('{} {}'.format(y_pred[i], y_test[i]))\n",
        "print('Acc Test {}'.format(acc))"
      ]
    },
    {
      "cell_type": "code",
      "execution_count": 65,
      "metadata": {
        "colab": {
          "base_uri": "https://localhost:8080/",
          "height": 430
        },
        "id": "WEvauLmQ9aod",
        "outputId": "c9605170-bd6e-4deb-94ab-18ba4babc9a8"
      },
      "outputs": [
        {
          "data": {
            "image/png": "[encoded data removed]",
            "text/plain": [
              "<Figure size 640x480 with 1 Axes>"
            ]
          },
          "metadata": {},
          "output_type": "display_data"
        }
      ],
      "source": [
        "#--- view\n",
        "plt.scatter(X_test[y_test==0][:,0], X_test[y_test==0][:,1], color = 'red')\n",
        "plt.scatter(X_test[y_test==1][:,0], X_test[y_test==1][:,1], color = 'blue')\n",
        "x1 = np.linspace(-2, 2, 400)\n",
        "x2 = - (coeff[0] + coeff[1]*x1) /coeff[2]\n",
        "plt.plot(x1, x2, label = f'{coeff[0]}  {coeff[1]} {coeff[2]}')\n",
        "plt.grid(True)\n",
        "plt.legend()\n",
        "plt.show()"
      ]
    }
  ],
  "metadata": {
    "colab": {
      "provenance": []
    },
    "kernelspec": {
      "display_name": "ml_torch",
      "language": "python",
      "name": "python3"
    },
    "language_info": {
      "codemirror_mode": {
        "name": "ipython",
        "version": 3
      },
      "file_extension": ".py",
      "mimetype": "text/x-python",
      "name": "python",
      "nbconvert_exporter": "python",
      "pygments_lexer": "ipython3",
      "version": "3.9.21"
    }
  },
  "nbformat": 4,
  "nbformat_minor": 0
}
