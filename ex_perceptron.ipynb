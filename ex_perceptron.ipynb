{
  "cells": [
    {
      "cell_type": "code",
      "source": [],
      "metadata": {
        "id": "3QYxRX587dq-"
      },
      "execution_count": null,
      "outputs": []
    },
    {
      "cell_type": "code",
      "source": [
        "import sys\n",
        "sys.path.append('machine_learning')\n",
        "import numpy as np\n",
        "import nn.perceptron as perceptron\n",
        "import sklearn.datasets as datasets\n",
        "import metrics.metrics as metrics\n",
        "import matplotlib.pyplot as plt\n",
        "iris = datasets.load_iris()\n",
        "X = iris.data[:100,1:3]\n",
        "y = iris.target[:100:]\n",
        "\n",
        "n = X.shape[0]\n",
        "n_test = int(np.rint(0.2 * n))\n",
        "\n",
        "# random sort\n",
        "idx = np.random.permutation(n)\n",
        "X = X[idx]\n",
        "y = y[idx]\n",
        "\n",
        "X_train = X[:-n_test]\n",
        "X_test = X[-n_test:]\n",
        "y_train = y[:-n_test]\n",
        "y_test = y[-n_test:]\n",
        "\n",
        "\"\"\" data normalization, improve convergence \"\"\"\n",
        "mu = np.mean(X_train, axis = 0)\n",
        "dst = np.std(X_train, axis = 0)\n",
        "X_train = (X_train - mu) / dst\n",
        "X_test = (X_test - mu) / dst\n",
        "print('train: {}'.format(X_train.shape))\n",
        "print('val: {}'.format(X_test.shape))"
      ],
      "metadata": {
        "id": "VT8yBarz7eH5"
      },
      "execution_count": 18,
      "outputs": []
    },
    {
      "cell_type": "markdown",
      "source": [],
      "metadata": {
        "id": "0BiXNLva8PS6"
      }
    },
    {
      "cell_type": "code",
      "source": [
        "\"\"\"-------------------------------------------\"\"\"\n",
        "#Logistic Regression\n",
        "model = perceptron.Perceptron()\n",
        "model.setLoss('mse')\n",
        "model.setSteps(50)\n",
        "model.setPrintSteps(1)\n",
        "\n",
        "\n",
        "coeff = model.fit(X_train, y_train)\n",
        "#Evaluation (accuracy x clase)\n",
        "y_pred =model.predict(X_test)\n",
        "\n",
        "\n",
        "acc= metrics.accuracy(np.expand_dims(y_test, axis = 1) , y_pred)\n",
        "print('Acc Test {}'.format(acc))\n",
        "#--- view\n",
        "plt.scatter(X_test[y_test==0][:,0], X_test[y_test==0][:,1], color = 'red')\n",
        "plt.scatter(X_test[y_test==1][:,0], X_test[y_test==1][:,1], color = 'blue')\n",
        "x = np.linspace(-2, 2, 400)\n",
        "y = coeff[0] + coeff[1]*x\n",
        "plt.plot(x, y, label = f'y = {coeff[0]} + {coeff[1]}x')\n",
        "plt.grid(True)\n",
        "plt.legend()\n",
        "plt.show()"
      ],
      "metadata": {
        "colab": {
          "base_uri": "https://localhost:8080/",
          "height": 1000
        },
        "id": "JCy3xmww8QxV",
        "outputId": "8fed7d46-7e03-48a7-a9fb-badfddef4415"
      },
      "execution_count": 20,
      "outputs": [
        {
          "output_type": "stream",
          "name": "stdout",
          "text": [
            "it 0 mse loss_bce 0.8332768462324498 loss_mse 0.3193997371547037\n",
            "it 0 acc 0.0125\n",
            "it 1 mse loss_bce 0.8220723147409645 loss_mse 0.31393046163544075\n",
            "it 1 acc 0.0125\n",
            "it 2 mse loss_bce 0.811035203815251 loss_mse 0.30852473379773837\n",
            "it 2 acc 0.0125\n",
            "it 3 mse loss_bce 0.8001674567704047 loss_mse 0.30318545513711675\n",
            "it 3 acc 0.0125\n",
            "it 4 mse loss_bce 0.7894707184973581 loss_mse 0.29791532616593597\n",
            "it 4 acc 0.0125\n",
            "it 5 mse loss_bce 0.7789463365320266 loss_mse 0.2927168394171963\n",
            "it 5 acc 0.025\n",
            "it 6 mse loss_bce 0.7685953638909361 loss_mse 0.2875922741763411\n",
            "it 6 acc 0.025\n",
            "it 7 mse loss_bce 0.7584185635911312 loss_mse 0.28254369293998527\n",
            "it 7 acc 0.025\n",
            "it 8 mse loss_bce 0.7484164147523618 loss_mse 0.2775729395736951\n",
            "it 8 acc 0.0625\n",
            "it 9 mse loss_bce 0.7385891201624737 loss_mse 0.2726816391160045\n",
            "it 9 acc 0.1125\n",
            "it 10 mse loss_bce 0.7289366151728857 loss_mse 0.26787119915332097\n",
            "it 10 acc 0.1125\n",
            "it 11 mse loss_bce 0.7194585777801491 loss_mse 0.2631428126707024\n",
            "it 11 acc 0.1625\n",
            "it 12 mse loss_bce 0.7101544397419537 loss_mse 0.25849746226699527\n",
            "it 12 acc 0.225\n",
            "it 13 mse loss_bce 0.7010233985714919 loss_mse 0.2539359256097114\n",
            "it 13 acc 0.4\n",
            "it 14 mse loss_bce 0.6920644302527144 loss_mse 0.24945878199534502\n",
            "it 14 acc 0.5\n",
            "it 15 mse loss_bce 0.6832763025204717 loss_mse 0.24506641987455957\n",
            "it 15 acc 0.7125\n",
            "it 16 mse loss_bce 0.6746575885535856 loss_mse 0.24075904519864003\n",
            "it 16 acc 0.825\n",
            "it 17 mse loss_bce 0.6662066809351913 loss_mse 0.23653669044358877\n",
            "it 17 acc 0.925\n",
            "it 18 mse loss_bce 0.6579218057428957 loss_mse 0.23239922417093134\n",
            "it 18 acc 0.9625\n",
            "it 19 mse loss_bce 0.6498010366410422 loss_mse 0.2283463609893432\n",
            "it 19 acc 1.0\n",
            "it 20 mse loss_bce 0.6418423088582771 loss_mse 0.2243776717882357\n",
            "it 20 acc 1.0\n",
            "it 21 mse loss_bce 0.6340434329453369 loss_mse 0.22049259412304972\n",
            "it 21 acc 1.0\n",
            "it 22 mse loss_bce 0.6264021082201712 loss_mse 0.21669044264182064\n",
            "it 22 acc 1.0\n",
            "it 23 mse loss_bce 0.6189159358198838 loss_mse 0.2129704194532227\n",
            "it 23 acc 1.0\n",
            "it 24 mse loss_bce 0.6115824312912375 loss_mse 0.20933162434743502\n",
            "it 24 acc 1.0\n",
            "it 25 mse loss_bce 0.6043990366634048 loss_mse 0.2057730647924858\n",
            "it 25 acc 1.0\n",
            "it 26 mse loss_bce 0.5973631319580524 loss_mse 0.20229366563996037\n",
            "it 26 acc 1.0\n",
            "it 27 mse loss_bce 0.59047204610258 loss_mse 0.19889227848487176\n",
            "it 27 acc 1.0\n",
            "it 28 mse loss_bce 0.5837230672222782 loss_mse 0.1955676906349112\n",
            "it 28 acc 1.0\n",
            "it 29 mse loss_bce 0.5771134522962373 loss_mse 0.19231863365407342\n",
            "it 29 acc 1.0\n",
            "it 30 mse loss_bce 0.5706404361700035 loss_mse 0.18914379145468757\n",
            "it 30 acc 1.0\n",
            "it 31 mse loss_bce 0.5643012399251954 loss_mse 0.18604180792010575\n",
            "it 31 acc 1.0\n",
            "it 32 mse loss_bce 0.5580930786126015 loss_mse 0.18301129404767733\n",
            "it 32 acc 1.0\n",
            "it 33 mse loss_bce 0.5520131683606525 loss_mse 0.18005083460814755\n",
            "it 33 acc 1.0\n",
            "it 34 mse loss_bce 0.5460587328757164 loss_mse 0.17715899432328241\n",
            "it 34 acc 1.0\n",
            "it 35 mse loss_bce 0.5402270093543586 loss_mse 0.1743343235683637\n",
            "it 35 acc 1.0\n",
            "it 36 mse loss_bce 0.534515253830697 loss_mse 0.17157536361025846\n",
            "it 36 acc 1.0\n",
            "it 37 mse loss_bce 0.528920745984251 loss_mse 0.16888065139510383\n",
            "it 37 acc 1.0\n",
            "it 38 mse loss_bce 0.5234407934353593 loss_mse 0.16624872390231332\n",
            "it 38 acc 1.0\n",
            "it 39 mse loss_bce 0.5180727355563561 loss_mse 0.1636781220836722\n",
            "it 39 acc 1.0\n",
            "it 40 mse loss_bce 0.5128139468273336 loss_mse 0.16116739440780764\n",
            "it 40 acc 1.0\n",
            "it 41 mse loss_bce 0.507661839765546 loss_mse 0.15871510003136152\n",
            "it 41 acc 1.0\n",
            "it 42 mse loss_bce 0.5026138674573805 loss_mse 0.15631981161881686\n",
            "it 42 acc 1.0\n",
            "it 43 mse loss_bce 0.49766752572139267 loss_mse 0.1539801178331986\n",
            "it 43 acc 1.0\n",
            "it 44 mse loss_bce 0.4928203549302409 loss_mse 0.15169462551983118\n",
            "it 44 acc 1.0\n",
            "it 45 mse loss_bce 0.4880699415184842 loss_mse 0.14946196160505215\n",
            "it 45 acc 1.0\n",
            "it 46 mse loss_bce 0.48341391920219784 loss_mse 0.1472807747312858\n",
            "it 46 acc 1.0\n",
            "it 47 mse loss_bce 0.4788499699352219 loss_mse 0.14514973664922623\n",
            "it 47 acc 1.0\n",
            "it 48 mse loss_bce 0.4743758246256492 loss_mse 0.1430675433870933\n",
            "it 48 acc 1.0\n",
            "it 49 mse loss_bce 0.4699892636348865 loss_mse 0.14103291621604713\n",
            "it 49 acc 1.0\n",
            "Acc Test 1.0\n"
          ]
        },
        {
          "output_type": "display_data",
          "data": {
            "text/plain": [
              "<Figure size 640x480 with 1 Axes>"
            ],
            "image/png": "[encoded data removed]"
          },
          "metadata": {}
        }
      ]
    }
  ],
  "metadata": {
    "language_info": {
      "name": "python"
    },
    "colab": {
      "provenance": []
    },
    "kernelspec": {
      "name": "python3",
      "display_name": "Python 3"
    }
  },
  "nbformat": 4,
  "nbformat_minor": 0
}